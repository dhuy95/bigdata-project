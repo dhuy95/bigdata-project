{
 "cells": [
  {
   "cell_type": "code",
   "execution_count": 5,
   "id": "d5d4d393",
   "metadata": {},
   "outputs": [
    {
     "name": "stdout",
     "output_type": "stream",
     "text": [
      "Hello\n"
     ]
    }
   ],
   "source": [
    "print(\"Hello\")"
   ]
  },
  {
   "cell_type": "code",
   "execution_count": 7,
   "id": "3f34e321",
   "metadata": {},
   "outputs": [
    {
     "name": "stdout",
     "output_type": "stream",
     "text": [
      "                                               title  \\\n",
      "0  Alphabet, Apple Stocks Climb In Wednesday Pre-...   \n",
      "1  OpenAI's ChatGPT Ironically Helped Google Avoi...   \n",
      "2   3 Dirt Cheap Stocks to Buy With $3,000 Right Now   \n",
      "3  Why This Vanguard Technology ETF Is Your Smart...   \n",
      "4  Jim Cramer Blasts Apple Naysayers, Claims Cour...   \n",
      "\n",
      "                                             summary  published_at  \\\n",
      "0  Stock of Alphabet Inc. GOOG GOOGL climbed 5.75...           NaN   \n",
      "1  A federal judge's decision to reject a breakup...           NaN   \n",
      "2  The overall market might be uncomfortably over...           NaN   \n",
      "3  The artificial intelligence (AI) revolution is...           NaN   \n",
      "4  CNBC's Jim Cramer launched a fiery defense of ...           NaN   \n",
      "\n",
      "   sentiment_score  \n",
      "0              NaN  \n",
      "1              NaN  \n",
      "2              NaN  \n",
      "3              NaN  \n",
      "4              NaN  \n"
     ]
    }
   ],
   "source": [
    "import requests\n",
    "import pandas as pd\n",
    "\n",
    "# API key (replace with your own)\n",
    "API_KEY = \"YOUR_API_KEY\"\n",
    "url = f\"https://www.alphavantage.co/query?function=NEWS_SENTIMENT&tickers=AAPL&apikey={API_KEY}\"\n",
    "\n",
    "# Fetch data\n",
    "response = requests.get(url)\n",
    "data = response.json()\n",
    "\n",
    "# Process into DataFrame\n",
    "news_items = data.get(\"feed\", [])\n",
    "df = pd.DataFrame(news_items, columns=[\"title\", \"summary\", \"published_at\", \"sentiment_score\"])\n",
    "print(df.head())"
   ]
  }
 ],
 "metadata": {
  "kernelspec": {
   "display_name": "Python 3",
   "language": "python",
   "name": "python3"
  },
  "language_info": {
   "codemirror_mode": {
    "name": "ipython",
    "version": 3
   },
   "file_extension": ".py",
   "mimetype": "text/x-python",
   "name": "python",
   "nbconvert_exporter": "python",
   "pygments_lexer": "ipython3",
   "version": "3.12.2"
  }
 },
 "nbformat": 4,
 "nbformat_minor": 5
}
